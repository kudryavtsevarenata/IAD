{
 "cells": [
  {
   "cell_type": "code",
   "execution_count": 18,
   "metadata": {},
   "outputs": [],
   "source": [
    "from sklearn.datasets import load_breast_cancer\n",
    "from sklearn.decomposition import PCA\n",
    "import pandas as pd\n",
    "import numpy as np\n",
    "\n",
    "data = load_breast_cancer(as_frame=True)\n",
    "X = data.data\n",
    "y = data.target"
   ]
  },
  {
   "cell_type": "code",
   "execution_count": 15,
   "metadata": {},
   "outputs": [
    {
     "data": {
      "text/plain": [
       "array([[1160.1425737 ,  293.91754364,   48.57839763],\n",
       "       [1269.12244319,  -15.63018184,  -35.39453423],\n",
       "       [ 995.79388896,  -39.15674324,   -1.70975298],\n",
       "       ...,\n",
       "       [ 314.50175618,  -47.55352518,  -10.44240718],\n",
       "       [1124.85811531,  -34.12922497,  -19.74208742],\n",
       "       [-771.52762188,   88.64310636,   23.88903189]])"
      ]
     },
     "execution_count": 15,
     "metadata": {},
     "output_type": "execute_result"
    }
   ],
   "source": [
    "def get_main_comp(X , num_components):\n",
    "    X_meaned = X - np.mean(X , axis = 0)\n",
    "\n",
    "    cov_matrix = np.cov(X_meaned , rowvar = False)\n",
    "\n",
    "    values , vectors = np.linalg.eigh(cov_matrix)\n",
    "\n",
    "    sorted_index = np.argsort(values)[::-1]\n",
    "    sorted_value = values[sorted_index]\n",
    "    sorted_vectors = vectors[:,sorted_index]\n",
    "\n",
    "    vector_subset = sorted_vectors[:,0:num_components]\n",
    "\n",
    "    X_reduced = np.dot(vector_subset.transpose() , X_meaned.transpose() ).transpose()\n",
    "    \n",
    "    return X_reduced\n",
    "\n",
    "get_main_comp(X, 3)"
   ]
  },
  {
   "cell_type": "code",
   "execution_count": 19,
   "metadata": {},
   "outputs": [
    {
     "data": {
      "text/plain": [
       "array([[1160.1425737 , -293.91754364,   48.57839763],\n",
       "       [1269.12244319,   15.63018184,  -35.39453423],\n",
       "       [ 995.79388896,   39.15674324,   -1.70975298],\n",
       "       ...,\n",
       "       [ 314.50175618,   47.55352518,  -10.44240718],\n",
       "       [1124.85811531,   34.12922497,  -19.74208742],\n",
       "       [-771.52762188,  -88.64310636,   23.88903189]])"
      ]
     },
     "execution_count": 19,
     "metadata": {},
     "output_type": "execute_result"
    }
   ],
   "source": [
    "from sklearn.preprocessing import StandardScaler\n",
    "\n",
    "df = load_breast_cancer(as_frame=True)\n",
    "\n",
    "X = df.data\n",
    "\n",
    "pca = PCA(n_components=3)\n",
    "XPCAreduced = pca.fit_transform(X)\n",
    "XPCAreduced"
   ]
  },
  {
   "cell_type": "code",
   "execution_count": 90,
   "metadata": {},
   "outputs": [
    {
     "name": "stdout",
     "output_type": "stream",
     "text": [
      "Не получилось...(((((\n"
     ]
    }
   ],
   "source": [
    "print(\"Пчоти получилось...(((((\")"
   ]
  }
 ],
 "metadata": {
  "kernelspec": {
   "display_name": "Python 3.9.2 64-bit",
   "language": "python",
   "name": "python3"
  },
  "language_info": {
   "codemirror_mode": {
    "name": "ipython",
    "version": 3
   },
   "file_extension": ".py",
   "mimetype": "text/x-python",
   "name": "python",
   "nbconvert_exporter": "python",
   "pygments_lexer": "ipython3",
   "version": "3.9.2"
  },
  "orig_nbformat": 4,
  "vscode": {
   "interpreter": {
    "hash": "e952f3f3b0740b9aa52f718669564e989426e2044d90ed4082f4796055a10afb"
   }
  }
 },
 "nbformat": 4,
 "nbformat_minor": 2
}
