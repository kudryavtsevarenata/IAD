{
 "cells": [
  {
   "cell_type": "code",
   "execution_count": 1,
   "metadata": {},
   "outputs": [],
   "source": [
    "from sklearn.datasets import load_breast_cancer\n",
    "from sklearn.decomposition import PCA\n",
    "import pandas as pd\n",
    "import numpy as np\n",
    "\n",
    "data = load_breast_cancer(as_frame=True)\n",
    "X = data.data\n",
    "y = data.target"
   ]
  },
  {
   "cell_type": "code",
   "execution_count": 6,
   "metadata": {},
   "outputs": [
    {
     "data": {
      "text/plain": [
       "array([[1160.1425737 ,  293.91754364],\n",
       "       [1269.12244319,  -15.63018184],\n",
       "       [ 995.79388896,  -39.15674324],\n",
       "       ...,\n",
       "       [ 314.50175618,  -47.55352518],\n",
       "       [1124.85811531,  -34.12922497],\n",
       "       [-771.52762188,   88.64310636]])"
      ]
     },
     "execution_count": 6,
     "metadata": {},
     "output_type": "execute_result"
    }
   ],
   "source": [
    "def get_main_comp(X , num_components):\n",
    "    X_meaned = X - np.mean(X , axis = 0)\n",
    "\n",
    "    cov_matrix = np.cov(X_meaned , rowvar = False)\n",
    "\n",
    "    values , vectors = np.linalg.eigh(cov_matrix)\n",
    "\n",
    "    sorted_index = np.argsort(values)[::-1]\n",
    "    sorted_value = values[sorted_index]\n",
    "    sorted_vectors = vectors[:,sorted_index]\n",
    "\n",
    "    vector_subset = sorted_vectors[:,0:num_components]\n",
    "\n",
    "    X_reduced = np.dot(vector_subset.transpose() , X_meaned.transpose() ).transpose()\n",
    "    \n",
    "    return X_reduced\n",
    "\n",
    "get_main_comp(X, 2)"
   ]
  },
  {
   "cell_type": "code",
   "execution_count": 7,
   "metadata": {},
   "outputs": [
    {
     "name": "stdout",
     "output_type": "stream",
     "text": [
      "[[1160.1425737  -293.91754364]\n",
      " [1269.12244319   15.63018184]\n",
      " [ 995.79388896   39.15674324]\n",
      " ...\n",
      " [ 314.50175618   47.55352518]\n",
      " [1124.85811531   34.12922497]\n",
      " [-771.52762188  -88.64310636]]\n"
     ]
    }
   ],
   "source": [
    "def get_main_comp_embedded(X, num_comp):\n",
    "    pca = PCA(n_components=num_comp)\n",
    "    XPCAreduced = pca.fit_transform(X)\n",
    "    return XPCAreduced\n",
    "print(get_main_comp_embedded(X, 2))"
   ]
  },
  {
   "cell_type": "code",
   "execution_count": 8,
   "metadata": {},
   "outputs": [
    {
     "name": "stdout",
     "output_type": "stream",
     "text": [
      "[[1160.1425737   293.91754364   48.57839763]\n",
      " [1269.12244319  -15.63018184  -35.39453423]\n",
      " [ 995.79388896  -39.15674324   -1.70975298]\n",
      " ...\n",
      " [ 314.50175618  -47.55352518  -10.44240718]\n",
      " [1124.85811531  -34.12922497  -19.74208742]\n",
      " [-771.52762188   88.64310636   23.88903189]]\n"
     ]
    }
   ],
   "source": [
    "print(get_main_comp(X, 3))"
   ]
  },
  {
   "cell_type": "code",
   "execution_count": 10,
   "metadata": {},
   "outputs": [
    {
     "name": "stdout",
     "output_type": "stream",
     "text": [
      "[[1160.1425737  -293.91754364   48.57839763]\n",
      " [1269.12244319   15.63018184  -35.39453423]\n",
      " [ 995.79388896   39.15674324   -1.70975298]\n",
      " ...\n",
      " [ 314.50175618   47.55352518  -10.44240718]\n",
      " [1124.85811531   34.12922497  -19.74208742]\n",
      " [-771.52762188  -88.64310636   23.88903189]]\n"
     ]
    }
   ],
   "source": [
    "print(get_main_comp_embedded(X, 3))"
   ]
  },
  {
   "cell_type": "code",
   "execution_count": 11,
   "metadata": {},
   "outputs": [
    {
     "name": "stdout",
     "output_type": "stream",
     "text": [
      "[[1160.1425737   293.91754364   48.57839763    8.71197531]\n",
      " [1269.12244319  -15.63018184  -35.39453423  -17.86128323]\n",
      " [ 995.79388896  -39.15674324   -1.70975298   -4.1993401 ]\n",
      " ...\n",
      " [ 314.50175618  -47.55352518  -10.44240718    9.77188104]\n",
      " [1124.85811531  -34.12922497  -19.74208742   23.66088144]\n",
      " [-771.52762188   88.64310636   23.88903189   -2.54724855]]\n"
     ]
    }
   ],
   "source": [
    "print(get_main_comp(X, 4))"
   ]
  },
  {
   "cell_type": "code",
   "execution_count": 12,
   "metadata": {},
   "outputs": [
    {
     "name": "stdout",
     "output_type": "stream",
     "text": [
      "[[1160.1425737  -293.91754364   48.57839763   -8.71197531]\n",
      " [1269.12244319   15.63018184  -35.39453423   17.86128323]\n",
      " [ 995.79388896   39.15674324   -1.70975298    4.1993401 ]\n",
      " ...\n",
      " [ 314.50175618   47.55352518  -10.44240718   -9.77188104]\n",
      " [1124.85811531   34.12922497  -19.74208742  -23.66088144]\n",
      " [-771.52762188  -88.64310636   23.88903189    2.54724855]]\n"
     ]
    }
   ],
   "source": [
    "print(get_main_comp_embedded(X, 4))"
   ]
  },
  {
   "cell_type": "code",
   "execution_count": 14,
   "metadata": {},
   "outputs": [
    {
     "name": "stdout",
     "output_type": "stream",
     "text": [
      "Пчоти получилось...(((((\n",
      "Не знаю, в чем проблема\n"
     ]
    }
   ],
   "source": [
    "print(\"Пчоти получилось...(((((\\nНе знаю, в чем проблема\")"
   ]
  }
 ],
 "metadata": {
  "kernelspec": {
   "display_name": "Python 3.9.2 64-bit",
   "language": "python",
   "name": "python3"
  },
  "language_info": {
   "codemirror_mode": {
    "name": "ipython",
    "version": 3
   },
   "file_extension": ".py",
   "mimetype": "text/x-python",
   "name": "python",
   "nbconvert_exporter": "python",
   "pygments_lexer": "ipython3",
   "version": "3.9.2"
  },
  "orig_nbformat": 4,
  "vscode": {
   "interpreter": {
    "hash": "e952f3f3b0740b9aa52f718669564e989426e2044d90ed4082f4796055a10afb"
   }
  }
 },
 "nbformat": 4,
 "nbformat_minor": 2
}
